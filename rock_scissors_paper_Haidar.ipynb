{
  "nbformat": 4,
  "nbformat_minor": 0,
  "metadata": {
    "colab": {
      "name": "rock-scissors-paper-Haidar.ipynb",
      "provenance": [],
      "collapsed_sections": []
    },
    "kernelspec": {
      "name": "python3",
      "display_name": "Python 3"
    },
    "language_info": {
      "name": "python"
    }
  },
  "cells": [
    {
      "cell_type": "markdown",
      "metadata": {
        "id": "ggRsptmpAqkR"
      },
      "source": [
        "Muhammad Haidar Izzuddin"
      ]
    },
    {
      "cell_type": "markdown",
      "metadata": {
        "id": "jI2LGU9tU8y_"
      },
      "source": [
        "Dicoding Proyek Akhir Machine Learning untuk Pemula"
      ]
    },
    {
      "cell_type": "code",
      "metadata": {
        "id": "w4VDUZt7Aq2p"
      },
      "source": [
        "import tensorflow as tf\n",
        "from tensorflow.keras.optimizers import RMSprop\n",
        "from tensorflow.keras.preprocessing.image import ImageDataGenerator"
      ],
      "execution_count": 1,
      "outputs": []
    },
    {
      "cell_type": "code",
      "metadata": {
        "colab": {
          "base_uri": "https://localhost:8080/"
        },
        "id": "4DC8GmfWFOBK",
        "outputId": "b8549f8c-2aaa-4eb8-bd78-c07238d7cf80"
      },
      "source": [
        "#menpersiapkan data yang akan dipakai\n",
        "\n",
        "!wget --no-check-certificate \\\n",
        "https://dicodingacademy.blob.core.windows.net/picodiploma/ml_pemula_academy/rockpaperscissors.zip \\\n",
        "  -O /tmp/rockpaperscissors.zip"
      ],
      "execution_count": 2,
      "outputs": [
        {
          "output_type": "stream",
          "text": [
            "--2021-05-04 16:16:27--  https://dicodingacademy.blob.core.windows.net/picodiploma/ml_pemula_academy/rockpaperscissors.zip\n",
            "Resolving dicodingacademy.blob.core.windows.net (dicodingacademy.blob.core.windows.net)... 52.239.197.36\n",
            "Connecting to dicodingacademy.blob.core.windows.net (dicodingacademy.blob.core.windows.net)|52.239.197.36|:443... connected.\n",
            "HTTP request sent, awaiting response... 200 OK\n",
            "Length: 322873683 (308M) [application/zip]\n",
            "Saving to: ‘/tmp/rockpaperscissors.zip’\n",
            "\n",
            "/tmp/rockpapersciss 100%[===================>] 307.92M  5.58MB/s    in 68s     \n",
            "\n",
            "2021-05-04 16:17:36 (4.51 MB/s) - ‘/tmp/rockpaperscissors.zip’ saved [322873683/322873683]\n",
            "\n"
          ],
          "name": "stdout"
        }
      ]
    },
    {
      "cell_type": "code",
      "metadata": {
        "id": "RvskiwTLF295"
      },
      "source": [
        "#melakukan ekstraksi file pada zip\n",
        "import zipfile, os\n",
        "local_zip = '/tmp/rockpaperscissors.zip'\n",
        "zip_ref = zipfile.ZipFile(local_zip,'r')\n",
        "zip_ref.extractall('/tmp')\n",
        "zip_ref.close()"
      ],
      "execution_count": 3,
      "outputs": []
    },
    {
      "cell_type": "code",
      "metadata": {
        "id": "RSidNzYpGj2s"
      },
      "source": [
        "#mengeset nama direktori dan membuat direktori untuk memisahkan data antara train dan validation\n",
        "base_dir = '/tmp/rockpaperscissors'\n",
        "train_dir = os.path.join(base_dir,'train')\n",
        "val_dir = os.path.join(base_dir,'val')\n",
        "\n",
        "os.mkdir(train_dir)\n",
        "os.mkdir(val_dir)"
      ],
      "execution_count": 4,
      "outputs": []
    },
    {
      "cell_type": "code",
      "metadata": {
        "id": "7VSXW_V6HEmc"
      },
      "source": [
        "#menentukan path direktori untuk setiap rock, paper, dan scissors\n",
        "r_dir = os.path.join(base_dir,'rock')\n",
        "p_dir = os.path.join(base_dir,'paper')\n",
        "s_dir = os.path.join(base_dir,'scissors')"
      ],
      "execution_count": 5,
      "outputs": []
    },
    {
      "cell_type": "code",
      "metadata": {
        "id": "PNHEbIkiIofU"
      },
      "source": [
        "#data masing-masing kelas (rock, paper, scissors) dibagi menjadi train dan validation data, dengan validation 40% sesuai dengan arahan\n",
        "from sklearn.model_selection import train_test_split\n",
        "train_r_dir, val_r_dir = train_test_split(os.listdir(r_dir), test_size=0.4)\n",
        "train_p_dir, val_p_dir = train_test_split(os.listdir(p_dir), test_size=0.4)\n",
        "train_s_dir, val_s_dir = train_test_split(os.listdir(s_dir), test_size=0.4)"
      ],
      "execution_count": 6,
      "outputs": []
    },
    {
      "cell_type": "code",
      "metadata": {
        "id": "O6uDCmSBJLuH"
      },
      "source": [
        "#menentukan path direktori pada masing-masing kelas (path untuk train dan validation)\n",
        "train_r = os.path.join(train_dir,'rock')\n",
        "train_p = os.path.join(train_dir,'paper')\n",
        "train_s = os.path.join(train_dir,'scissors')\n",
        "val_r = os.path.join(val_dir,'rock')\n",
        "val_p = os.path.join(val_dir,'paper')\n",
        "val_s = os.path.join(val_dir,'scissors')"
      ],
      "execution_count": 7,
      "outputs": []
    },
    {
      "cell_type": "code",
      "metadata": {
        "id": "ZTknfAsVNQ1a"
      },
      "source": [
        "# membuat direktori baru di dalam direktori train dan validation untuk setiap kelas\n",
        "if not os.path.exists(train_r):\n",
        "  os.mkdir(train_r)\n",
        "if not os.path.exists(train_p):\n",
        "  os.mkdir(train_p)\n",
        "if not os.path.exists(train_s):\n",
        "  os.mkdir(train_s)\n",
        "if not os.path.exists(val_r):\n",
        "  os.mkdir(val_r)\n",
        "if not os.path.exists(val_p):\n",
        "  os.mkdir(val_p)\n",
        "if not os.path.exists(val_s):\n",
        "  os.mkdir(val_s)"
      ],
      "execution_count": 8,
      "outputs": []
    },
    {
      "cell_type": "code",
      "metadata": {
        "id": "Yz5CXdTAN0BT"
      },
      "source": [
        "#menyalin data ke direktori baru yang dibuat di line sebelum ini\n",
        "import shutil\n",
        "for i in train_r_dir:\n",
        "  shutil.copy(os.path.join(r_dir,i), os.path.join(train_r, i))\n",
        "for i in train_p_dir:\n",
        "  shutil.copy(os.path.join(p_dir,i), os.path.join(train_p,i))\n",
        "for i in train_s_dir:\n",
        "  shutil.copy(os.path.join(s_dir,i), os.path.join(train_s,i))\n",
        "for i in val_r_dir:\n",
        "  shutil.copy(os.path.join(r_dir,i), os.path.join(val_r,i))\n",
        "for i in val_p_dir:\n",
        "  shutil.copy(os.path.join(p_dir,i), os.path.join(val_p,i))\n",
        "for i in val_s_dir:\n",
        "  shutil.copy(os.path.join(s_dir,i), os.path.join(val_s,i))"
      ],
      "execution_count": 9,
      "outputs": []
    },
    {
      "cell_type": "code",
      "metadata": {
        "colab": {
          "base_uri": "https://localhost:8080/"
        },
        "id": "IyRxYXmAOYGs",
        "outputId": "78ec84b0-a5b8-4d49-f68b-d848d2496820"
      },
      "source": [
        "#melihat struktur data yang sudah dibuat di line-line sebelumnya\n",
        "os.listdir('/tmp/rockpaperscissors/train')"
      ],
      "execution_count": 10,
      "outputs": [
        {
          "output_type": "execute_result",
          "data": {
            "text/plain": [
              "['scissors', 'rock', 'paper']"
            ]
          },
          "metadata": {
            "tags": []
          },
          "execution_count": 10
        }
      ]
    },
    {
      "cell_type": "code",
      "metadata": {
        "colab": {
          "base_uri": "https://localhost:8080/"
        },
        "id": "-jZxdh24Ogq3",
        "outputId": "7699f182-700d-4e6b-9fcd-b9622ffaecae"
      },
      "source": [
        "#melihat struktur data yang sudah dibuat di line-line sebelumnya\n",
        "os.listdir('/tmp/rockpaperscissors/val')"
      ],
      "execution_count": 11,
      "outputs": [
        {
          "output_type": "execute_result",
          "data": {
            "text/plain": [
              "['scissors', 'rock', 'paper']"
            ]
          },
          "metadata": {
            "tags": []
          },
          "execution_count": 11
        }
      ]
    },
    {
      "cell_type": "code",
      "metadata": {
        "colab": {
          "base_uri": "https://localhost:8080/"
        },
        "id": "hVonUbINJGSV",
        "outputId": "cef1453e-5798-4d90-ccf6-92c665ee34ec"
      },
      "source": [
        "#melihat isi setiap kelas pada data train dan data validation\n",
        "print('train rock: %d' %(len(os.listdir('/tmp/rockpaperscissors/train/rock'))))\n",
        "print('val rock: %d' %(len(os.listdir('/tmp/rockpaperscissors/val/rock'))))\n",
        "print('train scissors: %d' %(len(os.listdir('/tmp/rockpaperscissors/train/scissors'))))\n",
        "print('val scissors: %d' %(len(os.listdir('/tmp/rockpaperscissors/val/scissors'))))\n",
        "print('train paper: %d' %(len(os.listdir('/tmp/rockpaperscissors/train/paper'))))\n",
        "print('val paper: %d' %(len(os.listdir('/tmp/rockpaperscissors/val/paper'))))"
      ],
      "execution_count": 12,
      "outputs": [
        {
          "output_type": "stream",
          "text": [
            "train rock: 435\n",
            "val rock: 291\n",
            "train scissors: 450\n",
            "val scissors: 300\n",
            "train paper: 427\n",
            "val paper: 285\n"
          ],
          "name": "stdout"
        }
      ]
    },
    {
      "cell_type": "code",
      "metadata": {
        "id": "_fl9bPH7O79z"
      },
      "source": [
        "#menginisialisasi image data generator\n",
        "train_datagen = ImageDataGenerator(\n",
        "                    rescale=1./255,\n",
        "                    rotation_range=20,\n",
        "                    horizontal_flip=True,\n",
        "                    shear_range = 0.2,\n",
        "                    fill_mode = 'nearest')\n",
        " \n",
        "test_datagen = ImageDataGenerator(\n",
        "                    rescale=1./255,\n",
        "                    rotation_range=20,\n",
        "                    horizontal_flip=True,\n",
        "                    shear_range = 0.2,\n",
        "                    fill_mode = 'nearest')"
      ],
      "execution_count": 13,
      "outputs": []
    },
    {
      "cell_type": "code",
      "metadata": {
        "colab": {
          "base_uri": "https://localhost:8080/"
        },
        "id": "kVHDZTjoQrB5",
        "outputId": "57ea7f05-b07f-42c3-cc9b-facb3375521b"
      },
      "source": [
        "#mempersiapkan data latih yang akan dipelajari model\n",
        "train_generator = train_datagen.flow_from_directory(\n",
        "        train_dir, \n",
        "        target_size=(150, 150), \n",
        "        batch_size=32,\n",
        "        class_mode='categorical')\n",
        "        #karena kelas yang digunakan lebih dari 2\n",
        "validation_generator = test_datagen.flow_from_directory(\n",
        "        val_dir, \n",
        "        target_size=(150, 150), \n",
        "        batch_size=32,\n",
        "        class_mode='categorical')\n",
        "        #karena kelas yang digunakan lebih dari 2"
      ],
      "execution_count": 14,
      "outputs": [
        {
          "output_type": "stream",
          "text": [
            "Found 1312 images belonging to 3 classes.\n",
            "Found 876 images belonging to 3 classes.\n"
          ],
          "name": "stdout"
        }
      ]
    },
    {
      "cell_type": "code",
      "metadata": {
        "id": "kGbGtlE2RnNM"
      },
      "source": [
        "#membangun model dengan arsitektur CNN\n",
        "model = tf.keras.models.Sequential([\n",
        "    #first convulation\n",
        "    tf.keras.layers.Conv2D(32, (3,3), activation='relu', input_shape=(150, 150, 3)),\n",
        "    tf.keras.layers.MaxPooling2D(2, 2),\n",
        "    #second convulation\n",
        "    tf.keras.layers.Conv2D(64, (3,3), activation='relu'),\n",
        "    tf.keras.layers.MaxPooling2D(2,2),\n",
        "    #third convulation\n",
        "    tf.keras.layers.Conv2D(128, (3,3), activation='relu'),\n",
        "    tf.keras.layers.MaxPooling2D(2,2),\n",
        "    #fourth convulation\n",
        "    tf.keras.layers.Conv2D(256, (3,3), activation='relu'),\n",
        "    tf.keras.layers.MaxPooling2D(2,2),\n",
        "    #DNN\n",
        "    tf.keras.layers.Flatten(),\n",
        "    tf.keras.layers.Dropout(0.5),\n",
        "    #hidden layer\n",
        "    tf.keras.layers.Dense(512, activation='relu'),\n",
        "    tf.keras.layers.Dense(3, activation='softmax')\n",
        "])"
      ],
      "execution_count": 15,
      "outputs": []
    },
    {
      "cell_type": "code",
      "metadata": {
        "id": "-JohdMspST1l"
      },
      "source": [
        "#mengcompile model dengan optimizer bernama 'Adam' dan loss_function 'categorigal_crossentropy'\n",
        "model.compile(loss='categorical_crossentropy',\n",
        "              optimizer=tf.optimizers.Adam(learning_rate=0.0001),\n",
        "              metrics=['accuracy'])"
      ],
      "execution_count": 16,
      "outputs": []
    },
    {
      "cell_type": "code",
      "metadata": {
        "colab": {
          "base_uri": "https://localhost:8080/"
        },
        "id": "MyA5yEbISsb4",
        "outputId": "538ada48-de5e-455c-ec3f-c7f0e8c80dea"
      },
      "source": [
        "#melatih model menggunakan model.fit\n",
        "hist = model.fit(\n",
        "          train_generator,\n",
        "          steps_per_epoch=25,  \n",
        "          epochs=20, \n",
        "          validation_data=validation_generator, \n",
        "          validation_steps=5, \n",
        "          verbose=2)"
      ],
      "execution_count": 19,
      "outputs": [
        {
          "output_type": "stream",
          "text": [
            "Epoch 1/20\n",
            "25/25 - 45s - loss: 0.0459 - accuracy: 0.9875 - val_loss: 0.0953 - val_accuracy: 0.9812\n",
            "Epoch 2/20\n",
            "25/25 - 44s - loss: 0.1083 - accuracy: 0.9688 - val_loss: 0.0828 - val_accuracy: 0.9688\n",
            "Epoch 3/20\n",
            "25/25 - 45s - loss: 0.0969 - accuracy: 0.9625 - val_loss: 0.0793 - val_accuracy: 0.9812\n",
            "Epoch 4/20\n",
            "25/25 - 44s - loss: 0.0625 - accuracy: 0.9825 - val_loss: 0.0711 - val_accuracy: 0.9750\n",
            "Epoch 5/20\n",
            "25/25 - 44s - loss: 0.0631 - accuracy: 0.9825 - val_loss: 0.0390 - val_accuracy: 0.9875\n",
            "Epoch 6/20\n",
            "25/25 - 44s - loss: 0.0645 - accuracy: 0.9825 - val_loss: 0.0238 - val_accuracy: 0.9937\n",
            "Epoch 7/20\n",
            "25/25 - 45s - loss: 0.0853 - accuracy: 0.9787 - val_loss: 0.0322 - val_accuracy: 0.9937\n",
            "Epoch 8/20\n",
            "25/25 - 45s - loss: 0.0852 - accuracy: 0.9762 - val_loss: 0.0590 - val_accuracy: 0.9812\n",
            "Epoch 9/20\n",
            "25/25 - 44s - loss: 0.0520 - accuracy: 0.9850 - val_loss: 0.0375 - val_accuracy: 0.9875\n",
            "Epoch 10/20\n",
            "25/25 - 45s - loss: 0.0495 - accuracy: 0.9862 - val_loss: 0.0548 - val_accuracy: 0.9875\n",
            "Epoch 11/20\n",
            "25/25 - 45s - loss: 0.0598 - accuracy: 0.9850 - val_loss: 0.0256 - val_accuracy: 0.9875\n",
            "Epoch 12/20\n",
            "25/25 - 44s - loss: 0.0335 - accuracy: 0.9912 - val_loss: 0.0468 - val_accuracy: 0.9875\n",
            "Epoch 13/20\n",
            "25/25 - 45s - loss: 0.0510 - accuracy: 0.9862 - val_loss: 0.0561 - val_accuracy: 0.9875\n",
            "Epoch 14/20\n",
            "25/25 - 45s - loss: 0.0436 - accuracy: 0.9862 - val_loss: 0.1004 - val_accuracy: 0.9875\n",
            "Epoch 15/20\n",
            "25/25 - 45s - loss: 0.0416 - accuracy: 0.9875 - val_loss: 0.1077 - val_accuracy: 0.9750\n",
            "Epoch 16/20\n",
            "25/25 - 45s - loss: 0.0288 - accuracy: 0.9925 - val_loss: 0.0810 - val_accuracy: 0.9812\n",
            "Epoch 17/20\n",
            "25/25 - 45s - loss: 0.0285 - accuracy: 0.9937 - val_loss: 0.0459 - val_accuracy: 0.9812\n",
            "Epoch 18/20\n",
            "25/25 - 45s - loss: 0.0392 - accuracy: 0.9862 - val_loss: 0.0783 - val_accuracy: 0.9750\n",
            "Epoch 19/20\n",
            "25/25 - 45s - loss: 0.0459 - accuracy: 0.9812 - val_loss: 0.0373 - val_accuracy: 0.9812\n",
            "Epoch 20/20\n",
            "25/25 - 45s - loss: 0.0461 - accuracy: 0.9887 - val_loss: 0.1557 - val_accuracy: 0.9625\n"
          ],
          "name": "stdout"
        }
      ]
    },
    {
      "cell_type": "code",
      "metadata": {
        "colab": {
          "base_uri": "https://localhost:8080/",
          "height": 298
        },
        "id": "Nd-wfjndHol8",
        "outputId": "f3db7371-f024-4f7a-9213-a59fbd84a22a"
      },
      "source": [
        "#memvisualisasikan akurasi menggunakan matplotlib\n",
        "import matplotlib.pyplot as plt\n",
        "\n",
        "loss = hist.history['loss']\n",
        "acc = hist.history['accuracy']\n",
        "val_loss = hist.history['val_loss']\n",
        "val_acc = hist.history['val_accuracy']\n",
        "\n",
        "epochs = range(len(acc))\n",
        "\n",
        "plt.plot(epochs, acc, 'b', label='train-accuracy')\n",
        "plt.plot(epochs, val_acc, 'r', label='validation-accuracy')\n",
        "plt.title('accuracy')\n",
        "plt.legend(loc=0)\n",
        "plt.figure()\n",
        "\n",
        "plt.show()"
      ],
      "execution_count": 22,
      "outputs": [
        {
          "output_type": "display_data",
          "data": {
            "image/png": "[encoded data removed]",
            "text/plain": [
              "<Figure size 432x288 with 1 Axes>"
            ]
          },
          "metadata": {
            "tags": [],
            "needs_background": "light"
          }
        },
        {
          "output_type": "display_data",
          "data": {
            "text/plain": [
              "<Figure size 432x288 with 0 Axes>"
            ]
          },
          "metadata": {
            "tags": []
          }
        }
      ]
    },
    {
      "cell_type": "code",
      "metadata": {
        "colab": {
          "resources": {
            "http://localhost:8080/nbextensions/google.colab/files.js": {
              "data": "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",
              "ok": true,
              "headers": [
                [
                  "content-type",
                  "application/javascript"
                ]
              ],
              "status": 200,
              "status_text": ""
            }
          },
          "base_uri": "https://localhost:8080/",
          "height": 375
        },
        "id": "an3pF_sMW6n8",
        "outputId": "5dfe9e5b-9a68-4a3b-84a4-85eae03ea804"
      },
      "source": [
        "#membuat line interaktif untuk memprediksi gambar yang dimasukkan\n",
        "from google.colab import files\n",
        "import numpy as np\n",
        "from keras.preprocessing import image\n",
        "import matplotlib.image as mpimg\n",
        "%matplotlib inline\n",
        "\n",
        "uploaded = files.upload()\n",
        "\n",
        "for fn in uploaded.keys():\n",
        "\n",
        "  #prediksi image\n",
        "  path = fn \n",
        "  img = image.load_img(path, target_size =(150,150))\n",
        "  imgplot = plt.imshow(img)\n",
        "  x = image.img_to_array(img)\n",
        "  x = np.expand_dims(x, axis=0)\n",
        "\n",
        "  images = np.vstack([x])\n",
        "  classes = model.predict(images, batch_size=10)\n",
        "  #output = np.argmax(classes)\n",
        "\n",
        "  print(fn)\n",
        "  print(classes)\n",
        "  if classes[0][0]==1:\n",
        "    print('kertas')\n",
        "  elif classes[0][1]==1:\n",
        "    print('batu')\n",
        "  elif classes[0][2]==1:\n",
        "    print('gunting')\n",
        "  else:\n",
        "    print('not sure')"
      ],
      "execution_count": 25,
      "outputs": [
        {
          "output_type": "display_data",
          "data": {
            "text/html": [
              "\n",
              "     <input type=\"file\" id=\"files-a16c22e3-9f24-4218-8ec0-6f1e7b253790\" name=\"files[]\" multiple disabled\n",
              "        style=\"border:none\" />\n",
              "     <output id=\"result-a16c22e3-9f24-4218-8ec0-6f1e7b253790\">\n",
              "      Upload widget is only available when the cell has been executed in the\n",
              "      current browser session. Please rerun this cell to enable.\n",
              "      </output>\n",
              "      <script src=\"/nbextensions/google.colab/files.js\"></script> "
            ],
            "text/plain": [
              "<IPython.core.display.HTML object>"
            ]
          },
          "metadata": {
            "tags": []
          }
        },
        {
          "output_type": "stream",
          "text": [
            "Saving paper.png to paper.png\n",
            "paper.png\n",
            "[[1. 0. 0.]]\n",
            "kertas\n"
          ],
          "name": "stdout"
        },
        {
          "output_type": "display_data",
          "data": {
            "image/png": "[encoded data removed]",
            "text/plain": [
              "<Figure size 432x288 with 1 Axes>"
            ]
          },
          "metadata": {
            "tags": [],
            "needs_background": "light"
          }
        }
      ]
    }
  ]
}